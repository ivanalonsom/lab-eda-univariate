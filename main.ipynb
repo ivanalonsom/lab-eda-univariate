{
 "cells": [
  {
   "cell_type": "code",
   "execution_count": 21,
   "metadata": {},
   "outputs": [],
   "source": [
    "import pandas as pd\n",
    "import gdown\n",
    "\n",
    "# file_id = \"1gPd7ginXt7jq0Ef4ZZvLCXBuAAWEu7wA\"       \n",
    "# # Para saber esto cojo el link entero -> https://drive.google.com/file/d/1gPd7ginXt7jq0Ef4ZZvLCXBuAAWEu7wA/view?usp=sharing y corto para tener solo la parte de id (entre /d/ y /view?)\n",
    "# download_url = f'https://drive.google.com/uc?id={file_id}'\n",
    "output = 'datos_amazon.csv'\n",
    "# gdown.download(download_url, output, quiet=False)\n",
    "\n",
    "## LAS COSAS CON COMENTS SOLO UNA VEZ PARA DESCARGARLO AL PC\n",
    "\n",
    "\n",
    "df_amazon = pd.read_csv(output)"
   ]
  },
  {
   "cell_type": "code",
   "execution_count": 22,
   "metadata": {},
   "outputs": [
    {
     "data": {
      "text/html": [
       "<div>\n",
       "<style scoped>\n",
       "    .dataframe tbody tr th:only-of-type {\n",
       "        vertical-align: middle;\n",
       "    }\n",
       "\n",
       "    .dataframe tbody tr th {\n",
       "        vertical-align: top;\n",
       "    }\n",
       "\n",
       "    .dataframe thead th {\n",
       "        text-align: right;\n",
       "    }\n",
       "</style>\n",
       "<table border=\"1\" class=\"dataframe\">\n",
       "  <thead>\n",
       "    <tr style=\"text-align: right;\">\n",
       "      <th></th>\n",
       "      <th>uid</th>\n",
       "      <th>asin</th>\n",
       "      <th>title</th>\n",
       "      <th>stars</th>\n",
       "      <th>reviews</th>\n",
       "      <th>price</th>\n",
       "      <th>isBestSeller</th>\n",
       "      <th>boughtInLastMonth</th>\n",
       "      <th>category</th>\n",
       "    </tr>\n",
       "  </thead>\n",
       "  <tbody>\n",
       "    <tr>\n",
       "      <th>0</th>\n",
       "      <td>1</td>\n",
       "      <td>B09B96TG33</td>\n",
       "      <td>Echo Dot (5th generation, 2022 release) | Big ...</td>\n",
       "      <td>4.7</td>\n",
       "      <td>15308</td>\n",
       "      <td>21.99</td>\n",
       "      <td>False</td>\n",
       "      <td>0</td>\n",
       "      <td>Hi-Fi Speakers</td>\n",
       "    </tr>\n",
       "    <tr>\n",
       "      <th>1</th>\n",
       "      <td>2</td>\n",
       "      <td>B01HTH3C8S</td>\n",
       "      <td>Anker Soundcore mini, Super-Portable Bluetooth...</td>\n",
       "      <td>4.7</td>\n",
       "      <td>98099</td>\n",
       "      <td>23.99</td>\n",
       "      <td>True</td>\n",
       "      <td>0</td>\n",
       "      <td>Hi-Fi Speakers</td>\n",
       "    </tr>\n",
       "    <tr>\n",
       "      <th>2</th>\n",
       "      <td>3</td>\n",
       "      <td>B09B8YWXDF</td>\n",
       "      <td>Echo Dot (5th generation, 2022 release) | Big ...</td>\n",
       "      <td>4.7</td>\n",
       "      <td>15308</td>\n",
       "      <td>21.99</td>\n",
       "      <td>False</td>\n",
       "      <td>0</td>\n",
       "      <td>Hi-Fi Speakers</td>\n",
       "    </tr>\n",
       "    <tr>\n",
       "      <th>3</th>\n",
       "      <td>4</td>\n",
       "      <td>B09B8T5VGV</td>\n",
       "      <td>Echo Dot with clock (5th generation, 2022 rele...</td>\n",
       "      <td>4.7</td>\n",
       "      <td>7205</td>\n",
       "      <td>31.99</td>\n",
       "      <td>False</td>\n",
       "      <td>0</td>\n",
       "      <td>Hi-Fi Speakers</td>\n",
       "    </tr>\n",
       "    <tr>\n",
       "      <th>4</th>\n",
       "      <td>5</td>\n",
       "      <td>B09WX6QD65</td>\n",
       "      <td>Introducing Echo Pop | Full sound compact Wi-F...</td>\n",
       "      <td>4.6</td>\n",
       "      <td>1881</td>\n",
       "      <td>17.99</td>\n",
       "      <td>False</td>\n",
       "      <td>0</td>\n",
       "      <td>Hi-Fi Speakers</td>\n",
       "    </tr>\n",
       "  </tbody>\n",
       "</table>\n",
       "</div>"
      ],
      "text/plain": [
       "   uid        asin                                              title  stars  \\\n",
       "0    1  B09B96TG33  Echo Dot (5th generation, 2022 release) | Big ...    4.7   \n",
       "1    2  B01HTH3C8S  Anker Soundcore mini, Super-Portable Bluetooth...    4.7   \n",
       "2    3  B09B8YWXDF  Echo Dot (5th generation, 2022 release) | Big ...    4.7   \n",
       "3    4  B09B8T5VGV  Echo Dot with clock (5th generation, 2022 rele...    4.7   \n",
       "4    5  B09WX6QD65  Introducing Echo Pop | Full sound compact Wi-F...    4.6   \n",
       "\n",
       "   reviews  price  isBestSeller  boughtInLastMonth        category  \n",
       "0    15308  21.99         False                  0  Hi-Fi Speakers  \n",
       "1    98099  23.99          True                  0  Hi-Fi Speakers  \n",
       "2    15308  21.99         False                  0  Hi-Fi Speakers  \n",
       "3     7205  31.99         False                  0  Hi-Fi Speakers  \n",
       "4     1881  17.99         False                  0  Hi-Fi Speakers  "
      ]
     },
     "execution_count": 22,
     "metadata": {},
     "output_type": "execute_result"
    }
   ],
   "source": [
    "df_amazon.head()"
   ]
  },
  {
   "cell_type": "code",
   "execution_count": 23,
   "metadata": {},
   "outputs": [
    {
     "data": {
      "text/plain": [
       "category\n",
       "Sports & Outdoors                         836265\n",
       "Beauty                                     19312\n",
       "Handmade Clothing, Shoes & Accessories     19229\n",
       "Bath & Body                                19092\n",
       "Birthday Gifts                             18978\n",
       "                                           ...  \n",
       "Alexa Built-In Devices                       107\n",
       "Motorbike Chassis                            107\n",
       "Plugs                                        107\n",
       "Smart Home Security & Lighting               104\n",
       "Smart Speakers                                54\n",
       "Name: count, Length: 296, dtype: int64"
      ]
     },
     "execution_count": 23,
     "metadata": {},
     "output_type": "execute_result"
    }
   ],
   "source": [
    "# Business Question: What are the most popular product categories on Amazon UK, and how do they compare in terms of listing frequency?\n",
    "\n",
    "# 1.a) Generate a frequency table for the product category.\n",
    "\n",
    "frequency_table = df_amazon['category'].value_counts()\n",
    "\n",
    "proportion_table = df_amazon['category'].value_counts(normalize=True)\n",
    "\n",
    "frequency_table"
   ]
  },
  {
   "cell_type": "code",
   "execution_count": 24,
   "metadata": {},
   "outputs": [
    {
     "data": {
      "text/plain": [
       "category\n",
       "Sports & Outdoors                         836265\n",
       "Beauty                                     19312\n",
       "Handmade Clothing, Shoes & Accessories     19229\n",
       "Bath & Body                                19092\n",
       "Birthday Gifts                             18978\n",
       "Name: count, dtype: int64"
      ]
     },
     "execution_count": 24,
     "metadata": {},
     "output_type": "execute_result"
    }
   ],
   "source": [
    "# 1.b) Which are the top 5 most listed product categories?\n",
    "\n",
    "frequency_table.head()"
   ]
  },
  {
   "cell_type": "code",
   "execution_count": 25,
   "metadata": {},
   "outputs": [
    {
     "name": "stdout",
     "output_type": "stream",
     "text": [
      "The mean is 89.24380943923663, the median 19.09 and the mode ModeResult(mode=9.99, count=48922)\n"
     ]
    }
   ],
   "source": [
    "# Business Question: How are products priced on Amazon UK, and are there specific price points or ranges that are more common?\n",
    "\n",
    "# 2.1.a) Calculate the mean, median, and mode for the price of products.\n",
    "from scipy import stats\n",
    "\n",
    "prices_mean = df_amazon[\"price\"].mean()\n",
    "prices_median = df_amazon[\"price\"].median()\n",
    "prices_mode = stats.mode(df_amazon[\"price\"])\n",
    "\n",
    "print(f\"The mean is {prices_mean}, the median {prices_median} and the mode {prices_mode}\")"
   ]
  },
  {
   "cell_type": "markdown",
   "metadata": {},
   "source": [
    "2.1.b) What's the average price point of products listed? How does this compare with the most common price point (mode)?\n",
    "\n",
    "The average price is 89.24, but the most common price point is 9.99. This means there are some outliers in the form of enormous prices that significantly increase the mean."
   ]
  },
  {
   "cell_type": "code",
   "execution_count": 26,
   "metadata": {},
   "outputs": [
    {
     "name": "stdout",
     "output_type": "stream",
     "text": [
      "\n",
      "Variance = 119445.48532256528\n",
      "Standard deviation = 345.60886175352226\n",
      "Range = 100000.0\n",
      "Interquartile range = 36.0      \n",
      "    \n"
     ]
    }
   ],
   "source": [
    "# 2.2.a) Determine the variance, standard deviation, range, and interquartile range for product price.\n",
    "\n",
    "amazon_var = df_amazon[\"price\"].var()\n",
    "amazon_std = df_amazon[\"price\"].std()\n",
    "amazon_range = df_amazon[\"price\"].max() - df_amazon[\"price\"].min()\n",
    "amazon_IQR = df_amazon[\"price\"].quantile(0.75) - df_amazon[\"price\"].quantile(0.25)\n",
    "\n",
    "print(f\"\"\"\n",
    "Variance = {amazon_var}\n",
    "Standard deviation = {amazon_std}\n",
    "Range = {amazon_range}\n",
    "Interquartile range = {amazon_IQR}      \n",
    "    \"\"\")"
   ]
  },
  {
   "cell_type": "code",
   "execution_count": 27,
   "metadata": {},
   "outputs": [
    {
     "data": {
      "text/plain": [
       "-44.01"
      ]
     },
     "execution_count": 27,
     "metadata": {},
     "output_type": "execute_result"
    }
   ],
   "source": [
    "inf_limit = df_amazon[\"price\"].quantile(0.25) - 1.5*amazon_IQR\n",
    "inf_limit\n",
    "# Result is -44.01, we are talking about money so we convert it to 0. That means there are free products on amazon. Every product below that price is an outlier (impossible in this case) "
   ]
  },
  {
   "cell_type": "code",
   "execution_count": 28,
   "metadata": {},
   "outputs": [
    {
     "data": {
      "text/plain": [
       "99.99000000000001"
      ]
     },
     "execution_count": 28,
     "metadata": {},
     "output_type": "execute_result"
    }
   ],
   "source": [
    "sup_limit = df_amazon[\"price\"].quantile(0.75) + 1.5*amazon_IQR\n",
    "sup_limit\n",
    "# Result is 99.99. Every value above this is an outlier."
   ]
  },
  {
   "cell_type": "markdown",
   "metadata": {},
   "source": [
    "2.2.b) How varied are the product prices? Are there any indicators of a significant spread in prices?\n",
    "\n",
    "Una varianza tan alta indica que hay una gran dispersión en los precios alrededor de la media.\n",
    "La desviacion estandar tan alta indica que los precios se desvian de la media en unos 345,61 dolares (suponiendo que sea esa la moneda)\n",
    "El rango indica que entre el producto más caro y más barato hay una diferencia de 100.000 dolares\n",
    "El rango de intercuartil es muy pequeño comparado con el rango total indicando que la mayoria de datos (la mitad) se concentran en un rango más estrecho, de 36 dolares de diferencia. Esta diferencia es entre el valor más pequeño y el más grande de dentro de los dos cuartiles. Este rango tan pequeño, comparado con el rango total y la gran desviación, refuerza la idea de que algunos valores extremos están influyendo en las medidas."
   ]
  },
  {
   "cell_type": "code",
   "execution_count": 29,
   "metadata": {},
   "outputs": [
    {
     "data": {
      "text/plain": [
       "<Axes: xlabel='price', ylabel='Count'>"
      ]
     },
     "execution_count": 29,
     "metadata": {},
     "output_type": "execute_result"
    },
    {
     "data": {
      "image/png": "[encoded data removed]",
      "text/plain": [
       "<Figure size 640x480 with 1 Axes>"
      ]
     },
     "metadata": {},
     "output_type": "display_data"
    }
   ],
   "source": [
    "# 2.3.a) Is there a specific price range where most products fall? Plot a histogram to visualize the distribution of product prices. If its hard to read these diagrams, think why this is, and explain how it could be solved...\n",
    "\n",
    "import seaborn as sns\n",
    "\n",
    "sns.histplot(df_amazon['price'], kde=True, bins=300)"
   ]
  },
  {
   "cell_type": "code",
   "execution_count": 30,
   "metadata": {},
   "outputs": [
    {
     "data": {
      "text/plain": [
       "price\n",
       "9.99       48922\n",
       "12.99      38823\n",
       "8.99       34058\n",
       "7.99       33632\n",
       "14.99      32570\n",
       "           ...  \n",
       "2398.99        1\n",
       "1453.08        1\n",
       "1785.63        1\n",
       "1347.36        1\n",
       "317.34         1\n",
       "Name: count, Length: 82916, dtype: int64"
      ]
     },
     "execution_count": 30,
     "metadata": {},
     "output_type": "execute_result"
    }
   ],
   "source": [
    "df_amazon['price'].value_counts()"
   ]
  },
  {
   "cell_type": "code",
   "execution_count": 31,
   "metadata": {},
   "outputs": [
    {
     "data": {
      "text/plain": [
       "<Axes: ylabel='price'>"
      ]
     },
     "execution_count": 31,
     "metadata": {},
     "output_type": "execute_result"
    },
    {
     "data": {
      "image/png": "[encoded data removed]",
      "text/plain": [
       "<Figure size 640x480 with 1 Axes>"
      ]
     },
     "metadata": {},
     "output_type": "display_data"
    }
   ],
   "source": [
    "# 2.3.b) Are there products that are priced significantly higher than the rest? Use a box plot to showcase the spread and potential outliers in product pricing.\n",
    "\n",
    "sns.boxplot(data = df_amazon['price'])\n",
    "\n",
    "# YES, there are."
   ]
  },
  {
   "cell_type": "code",
   "execution_count": 32,
   "metadata": {},
   "outputs": [
    {
     "name": "stdout",
     "output_type": "stream",
     "text": [
      "The mean is 2.152836472966065, the median 0.0 and the mode ModeResult(mode=0.0, count=1225641)\n"
     ]
    }
   ],
   "source": [
    "# 3.1.a) Calculate the mean, median, and mode for the rating of products.\n",
    "from scipy import stats\n",
    "\n",
    "stars_mean = df_amazon[\"stars\"].mean()\n",
    "stars_median = df_amazon[\"stars\"].median()\n",
    "stars_mode = stats.mode(df_amazon[\"stars\"])\n",
    "\n",
    "print(f\"The mean is {stars_mean}, the median {stars_median} and the mode {stars_mode}\")"
   ]
  },
  {
   "cell_type": "markdown",
   "metadata": {},
   "source": [
    "3.1.b) How do customers generally rate products? Is there a common trend?\n",
    "\n",
    "With a 0.0."
   ]
  },
  {
   "cell_type": "code",
   "execution_count": 33,
   "metadata": {},
   "outputs": [
    {
     "name": "stdout",
     "output_type": "stream",
     "text": [
      "\n",
      "Variance = 4.81743402976196\n",
      "Standard deviation = 2.1948653785054697\n",
      "Range = 5.0\n",
      "Interquartile range = 4.4      \n",
      "    \n"
     ]
    }
   ],
   "source": [
    "# 3.2.a) Determine the variance, standard deviation, and interquartile range for product rating.\n",
    "\n",
    "amazon_var_rating = df_amazon[\"stars\"].var()\n",
    "amazon_std_rating = df_amazon[\"stars\"].std()\n",
    "amazon_range_rating = df_amazon[\"stars\"].max() - df_amazon[\"stars\"].min()\n",
    "amazon_IQR_rating = df_amazon[\"stars\"].quantile(0.75) - df_amazon[\"stars\"].quantile(0.25)\n",
    "\n",
    "print(f\"\"\"\n",
    "Variance = {amazon_var_rating}\n",
    "Standard deviation = {amazon_std_rating}\n",
    "Range = {amazon_range_rating}\n",
    "Interquartile range = {amazon_IQR_rating}      \n",
    "    \"\"\")"
   ]
  },
  {
   "cell_type": "code",
   "execution_count": 34,
   "metadata": {},
   "outputs": [
    {
     "name": "stdout",
     "output_type": "stream",
     "text": [
      "\n",
      "Skewness = 0.08120735761080985\n",
      "Kurtosis = -1.9260061280432985\n",
      "    \n"
     ]
    }
   ],
   "source": [
    "# 3.3.a) Calculate the skewness and kurtosis for the rating column.\n",
    "\n",
    "skewness_rating = df_amazon[\"stars\"].skew()\n",
    "kurtosis_rating = df_amazon[\"stars\"].kurtosis()\n",
    "\n",
    "print(f\"\"\"\n",
    "Skewness = {skewness_rating}\n",
    "Kurtosis = {kurtosis_rating}\n",
    "    \"\"\")"
   ]
  },
  {
   "cell_type": "markdown",
   "metadata": {},
   "source": [
    "3.3.b) Are the ratings normally distributed, or do they lean towards higher or lower values?\n",
    "\n",
    "Un Skewness de 0.081 aprox, me indica que la distribución de los datos es casi simétrica. 0 indicaria simetria perfecta. \n",
    "Kurtosis = -1.9260061280432985 (menor que 0) indica que la distribución de tus datos es platicúrtica, es decir, tiene una forma más plana que una distribución normal (Gaussiana). Esto significa que hay más valores extremos (outliers) en la distribución que en una distribución normal."
   ]
  },
  {
   "cell_type": "code",
   "execution_count": 36,
   "metadata": {},
   "outputs": [
    {
     "data": {
      "text/plain": [
       "<Axes: xlabel='stars', ylabel='Count'>"
      ]
     },
     "execution_count": 36,
     "metadata": {},
     "output_type": "execute_result"
    },
    {
     "data": {
      "image/png": "[encoded data removed]",
      "text/plain": [
       "<Figure size 640x480 with 1 Axes>"
      ]
     },
     "metadata": {},
     "output_type": "display_data"
    }
   ],
   "source": [
    "# 3.4) Plot a histogram to visualize the distribution of product ratings. Is there a specific rating that is more common?\n",
    "sns.histplot(df_amazon['stars'], kde=True, bins=30)\n",
    "\n",
    "# The  most common rating is 0"
   ]
  }
 ],
 "metadata": {
  "kernelspec": {
   "display_name": "base",
   "language": "python",
   "name": "python3"
  },
  "language_info": {
   "codemirror_mode": {
    "name": "ipython",
    "version": 3
   },
   "file_extension": ".py",
   "mimetype": "text/x-python",
   "name": "python",
   "nbconvert_exporter": "python",
   "pygments_lexer": "ipython3",
   "version": "3.12.4"
  }
 },
 "nbformat": 4,
 "nbformat_minor": 2
}
